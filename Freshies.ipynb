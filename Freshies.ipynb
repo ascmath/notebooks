{
 "cells": [
  {
   "cell_type": "markdown",
   "metadata": {},
   "source": [
    "## Import the required packages"
   ]
  },
  {
   "cell_type": "code",
   "execution_count": null,
   "metadata": {
    "collapsed": true
   },
   "outputs": [],
   "source": [
    "import pandas as pd\n",
    "import numpy as np"
   ]
  },
  {
   "cell_type": "markdown",
   "metadata": {},
   "source": [
    "## Read the csv data\n",
    "#### It is important to resave the `.xlxs ` file into a `.csv` file before getting pandas to read the file.\n",
    "- keep_default_na is set to False so it will recognise other stuff as na\n",
    "- if you want to change all the empty spaces to `NaN`, include `na_values=['']`, which tells pandas to recognize empty spaces as `NaN`"
   ]
  },
  {
   "cell_type": "code",
   "execution_count": null,
   "metadata": {
    "collapsed": true
   },
   "outputs": [],
   "source": [
    "df = pd.read_csv('Data/freshie1617.csv',skiprows=[0,1,2],parse_dates='Date of Birth',keep_default_na=False)"
   ]
  },
  {
   "cell_type": "markdown",
   "metadata": {},
   "source": [
    " Here we replace the empty spaces with float 10 as empty spaces in the data indicate that the students did not take that particular subject. It makes it easier to classify the students that have not taking some subjects into the bridging groups."
   ]
  },
  {
   "cell_type": "code",
   "execution_count": null,
   "metadata": {
    "collapsed": true
   },
   "outputs": [],
   "source": [
    "df = df.replace('',float(10))"
   ]
  },
  {
   "cell_type": "markdown",
   "metadata": {},
   "source": [
    "We now change the grades of the students into float so we can make use of the ordering of the numbers to sort the students."
   ]
  },
  {
   "cell_type": "code",
   "execution_count": null,
   "metadata": {
    "collapsed": false
   },
   "outputs": [],
   "source": [
    "df[['G42 - Additional Mathematics','G46 - Biology','G51 - Science (Physics, Biology)',\n",
    "    'G52 - Science (Chemistry, Biology)']] = df[['G42 - Additional Mathematics','G46 - Biology',\n",
    "    'G51 - Science (Physics, Biology)','G52 - Science (Chemistry, Biology)']].astype(float)"
   ]
  },
  {
   "cell_type": "markdown",
   "metadata": {},
   "source": [
    "We can use `.dtypes` to check the type of the data for the different columns."
   ]
  },
  {
   "cell_type": "code",
   "execution_count": null,
   "metadata": {
    "collapsed": false
   },
   "outputs": [],
   "source": [
    "df.dtypes"
   ]
  },
  {
   "cell_type": "markdown",
   "metadata": {},
   "source": [
    "We can use `.pivot_table` to look at how the different diplomas perform for a particular subject, in this case is additional mathematics. Here, those with grade value of 10 means that the student did not take additional mathematics as we have earlier replaced all the empty spaces with the float value of 10. \n",
    "\n",
    "Note: This step can be skipped, it is more like a checking for myself."
   ]
  },
  {
   "cell_type": "code",
   "execution_count": null,
   "metadata": {
    "collapsed": false
   },
   "outputs": [],
   "source": [
    "df[['Adm No','Course Abbr','G42 - Additional Mathematics']].pivot_table(index='Course Abbr', \n",
    "        columns='G42 - Additional Mathematics',aggfunc='count',fill_value=0,margins=True)"
   ]
  },
  {
   "cell_type": "markdown",
   "metadata": {},
   "source": [
    "#### We can also group the students according to their courses."
   ]
  },
  {
   "cell_type": "code",
   "execution_count": null,
   "metadata": {
    "collapsed": true
   },
   "outputs": [],
   "source": [
    "che = df[df['Course Abbr']=='ChE']\n",
    "bio = df[df['Course Abbr']=='BIO']\n",
    "phs = df[df['Course Abbr']=='PHS']\n",
    "fsn = df[df['Course Abbr']=='FSN']\n",
    "vet = df[df['Course Abbr']=='VET']\n",
    "bms = df[df['Course Abbr']=='BMS']\n",
    "bcs = df[df['Course Abbr']=='BCS']"
   ]
  },
  {
   "cell_type": "markdown",
   "metadata": {},
   "source": [
    "Since only ChE students need to take their mathematics, we just pull out ChE freshies that had a grade of 6 or lower for their additional mathematics. See that those students who didn't take additional mathematics have a grade of 10 and they are also pulled out at the same time. If we were to assign the grades for students who didn't take a particular subject as `NaN`, the classification would have been more tedious (I think?)."
   ]
  },
  {
   "cell_type": "code",
   "execution_count": null,
   "metadata": {
    "collapsed": false
   },
   "outputs": [],
   "source": [
    "che_em_list = che[che['G42 - Additional Mathematics']>5]\n",
    "print 'Number of ChE students to go for math bridging:', len(che_em_list)"
   ]
  },
  {
   "cell_type": "markdown",
   "metadata": {},
   "source": [
    "As I checked with the Bridging programme chairman that he needed the following information to create the attendance list, I have stored them into the variable `info` so as to reduce the typing to be done."
   ]
  },
  {
   "cell_type": "code",
   "execution_count": null,
   "metadata": {
    "collapsed": true
   },
   "outputs": [],
   "source": [
    "info = ['Student Name','Adm No','Acad Course Code','Course Abbr','Mobile No.','Personal Email Address']"
   ]
  },
  {
   "cell_type": "markdown",
   "metadata": {},
   "source": [
    "#### One bridging class down!\n",
    "We can now save the name and info of ChE students that have to take the math bridging into a csv file named `che_em_list.csv`"
   ]
  },
  {
   "cell_type": "code",
   "execution_count": null,
   "metadata": {
    "collapsed": false
   },
   "outputs": [],
   "source": [
    "che_em_list[info].to_csv('C:/Users/laizs/Desktop/notebook/bridging/che_em_list.csv')"
   ]
  },
  {
   "cell_type": "code",
   "execution_count": null,
   "metadata": {
    "collapsed": true
   },
   "outputs": [],
   "source": []
  },
  {
   "cell_type": "markdown",
   "metadata": {},
   "source": [
    "I'll leave the rest as an exercise for the reader to see how the remaining attendance for the different classes are obtained\n",
    "\n",
    "As a guide, the naming terminologies for the csv files are given below:\n",
    "- hap_mas_list: students that have to do bridigng for mas and hap\n",
    "- mas_list: students that only have to do bridging for mas\n",
    "- hap_list: students that only have to do bridging for hap"
   ]
  },
  {
   "cell_type": "code",
   "execution_count": null,
   "metadata": {
    "collapsed": false
   },
   "outputs": [],
   "source": [
    "mas_pop = df[((df['Course Abbr']=='BMS') | (df['Course Abbr']=='BIO')| (df['Course Abbr']=='FSN')| (df['Course Abbr']=='PHS'))\n",
    "             &(df['G42 - Additional Mathematics']>5)]\n",
    "len(mas_pop)"
   ]
  },
  {
   "cell_type": "code",
   "execution_count": null,
   "metadata": {
    "collapsed": false
   },
   "outputs": [],
   "source": [
    "mas_pop.to_csv('C:/Users/laizs/Desktop/notebook/bridging/mas_pop.csv')\n",
    "mas_pop['G52 - Science (Chemistry, Biology)'].unique()"
   ]
  },
  {
   "cell_type": "code",
   "execution_count": null,
   "metadata": {
    "collapsed": false
   },
   "outputs": [],
   "source": [
    "hap_mas_list = mas_pop[(mas_pop['G46 - Biology']>5)&(mas_pop['G51 - Science (Physics, Biology)']>5)&\n",
    "                     (mas_pop['G52 - Science (Chemistry, Biology)']>5)]\n",
    "\n",
    "mas_list = mas_pop[(mas_pop['G46 - Biology']<=5)|(mas_pop['G51 - Science (Physics, Biology)']<=5)|\n",
    "                     (mas_pop['G52 - Science (Chemistry, Biology)']<=5)]\n"
   ]
  },
  {
   "cell_type": "code",
   "execution_count": null,
   "metadata": {
    "collapsed": false
   },
   "outputs": [],
   "source": [
    "print len(hap_mas_list[info])\n",
    "print len(mas_list[info])\n"
   ]
  },
  {
   "cell_type": "code",
   "execution_count": null,
   "metadata": {
    "collapsed": false
   },
   "outputs": [],
   "source": [
    "hap_mas_list[info].to_csv('C:/Users/laizs/Desktop/notebook/bridging/hap_mas_list.csv')\n",
    "mas_list[info].to_csv('C:/Users/laizs/Desktop/notebook/bridging/mas_list.csv')\n"
   ]
  },
  {
   "cell_type": "code",
   "execution_count": null,
   "metadata": {
    "collapsed": false
   },
   "outputs": [],
   "source": [
    "hap_pop = df[((df['Course Abbr']=='BMS') | (df['Course Abbr']=='BIO')| (df['Course Abbr']=='FSN')| (df['Course Abbr']=='PHS'))\n",
    "             & ~((df['G46 - Biology']<=5)|(df['G51 - Science (Physics, Biology)']<=5)|(df['G52 - Science (Chemistry, Biology)']<=5))]\n",
    "len(hap_pop)"
   ]
  },
  {
   "cell_type": "code",
   "execution_count": null,
   "metadata": {
    "collapsed": false
   },
   "outputs": [],
   "source": [
    "hap_list = hap_pop[hap_pop['G42 - Additional Mathematics']<=5]\n",
    "len(hap_list)"
   ]
  },
  {
   "cell_type": "code",
   "execution_count": null,
   "metadata": {
    "collapsed": true
   },
   "outputs": [],
   "source": [
    "hap_list[info].to_csv('C:/Users/laizs/Desktop/notebook/bridging/hap_list.csv')"
   ]
  }
 ],
 "metadata": {
  "kernelspec": {
   "display_name": "Python 2",
   "language": "python",
   "name": "python2"
  },
  "language_info": {
   "codemirror_mode": {
    "name": "ipython",
    "version": 2
   },
   "file_extension": ".py",
   "mimetype": "text/x-python",
   "name": "python",
   "nbconvert_exporter": "python",
   "pygments_lexer": "ipython2",
   "version": "2.7.11"
  }
 },
 "nbformat": 4,
 "nbformat_minor": 0
}
