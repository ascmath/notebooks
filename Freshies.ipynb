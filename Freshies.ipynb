{
 "cells": [
  {
   "cell_type": "markdown",
   "metadata": {},
   "source": [
    "## Import the required packages"
   ]
  },
  {
   "cell_type": "code",
   "execution_count": 1,
   "metadata": {
    "collapsed": true
   },
   "outputs": [],
   "source": [
    "import pandas as pd\n",
    "import numpy as np"
   ]
  },
  {
   "cell_type": "markdown",
   "metadata": {},
   "source": [
    "## Read the csv data\n",
    "#### It is important to resave the `.xlxs ` file into a `.csv` file before getting pandas to read the file.\n",
    "- keep_default_na is set to False so it will recognise other stuff as na\n",
    "- if you want to change all the empty spaces to `NaN`, include `na_values=['']`, which tells pandas to recognize empty spaces as `NaN`"
   ]
  },
  {
   "cell_type": "code",
   "execution_count": 2,
   "metadata": {
    "collapsed": true
   },
   "outputs": [],
   "source": [
    "df = pd.read_csv('Data/freshie1617.csv',skiprows=[0,1,2],parse_dates='Date of Birth',keep_default_na=False)"
   ]
  },
  {
   "cell_type": "markdown",
   "metadata": {},
   "source": [
    " Here we replace the empty spaces with float 10 as empty spaces in the data indicate that the students did not take that particular subject. It makes it easier to classify the students that have not taking some subjects into the bridging groups."
   ]
  },
  {
   "cell_type": "code",
   "execution_count": 3,
   "metadata": {
    "collapsed": true
   },
   "outputs": [],
   "source": [
    "df = df.replace('',float(10))"
   ]
  },
  {
   "cell_type": "markdown",
   "metadata": {},
   "source": [
    "We now change the grades of the students into float so we can make use of the ordering of the numbers to sort the students."
   ]
  },
  {
   "cell_type": "code",
   "execution_count": 4,
   "metadata": {
    "collapsed": false
   },
   "outputs": [],
   "source": [
    "df[['G42 - Additional Mathematics','G46 - Biology','G51 - Science (Physics, Biology)',\n",
    "    'G52 - Science (Chemistry, Biology)']] = df[['G42 - Additional Mathematics','G46 - Biology',\n",
    "    'G51 - Science (Physics, Biology)','G52 - Science (Chemistry, Biology)']].astype(float)"
   ]
  },
  {
   "cell_type": "markdown",
   "metadata": {},
   "source": [
    "We can use `.dtypes` to check the type of the data for the different columns."
   ]
  },
  {
   "cell_type": "code",
   "execution_count": 5,
   "metadata": {
    "collapsed": false
   },
   "outputs": [
    {
     "data": {
      "text/plain": [
       "S/N                                                        int64\n",
       "Adm No                                                    object\n",
       "Student Name                                              object\n",
       "Acad Course Code                                          object\n",
       "Course Abbr                                               object\n",
       "Student NRIC/ Passport                                    object\n",
       "Date of Birth                                             object\n",
       "Gender                                                    object\n",
       "Entry Qual Code                                           object\n",
       "Adm Category                                              object\n",
       "Personal Email Address                                    object\n",
       "Is Fitness                                                object\n",
       "Is C Asthma                                               object\n",
       "Mobile No.                                                 int64\n",
       "Home Tel No.                                              object\n",
       "House Blk                                                 object\n",
       "Street1                                                   object\n",
       "Street2                                                   object\n",
       "Street3                                                  float64\n",
       "Unit No.                                                  object\n",
       "Country                                                   object\n",
       "State Province                                           float64\n",
       "Postal Code                                                int64\n",
       "Nok Name                                                  object\n",
       "Relationship                                              object\n",
       "Nok HP No                                                 object\n",
       "Raw Aggregate                                              int64\n",
       "Net Aggregate                                              int64\n",
       "G11 - English as a 1st Language                            int64\n",
       "G41 - Mathematics (Syllabus B, C, D)                       int64\n",
       "G42 - Additional Mathematics                             float64\n",
       "G45 - Chemistry                                           object\n",
       "G46 - Biology                                            float64\n",
       "G50 - Science (Physics, Chemistry) / Physical Science     object\n",
       "G51 - Science (Physics, Biology)                         float64\n",
       "G52 - Science (Chemistry, Biology)                       float64\n",
       "dtype: object"
      ]
     },
     "execution_count": 5,
     "metadata": {},
     "output_type": "execute_result"
    }
   ],
   "source": [
    "df.dtypes"
   ]
  },
  {
   "cell_type": "markdown",
   "metadata": {},
   "source": [
    "We can use `.pivot_table` to look at how the different diplomas perform for a particular subject, in this case is additional mathematics. Here, those with grade value of 10 means that the student did not take additional mathematics as we have earlier replaced all the empty spaces with the float value of 10. \n",
    "\n",
    "Note: This step can be skipped, it is more like a checking for myself."
   ]
  },
  {
   "cell_type": "code",
   "execution_count": 6,
   "metadata": {
    "collapsed": false
   },
   "outputs": [
    {
     "data": {
      "text/html": [
       "<div>\n",
       "<table border=\"1\" class=\"dataframe\">\n",
       "  <thead>\n",
       "    <tr>\n",
       "      <th></th>\n",
       "      <th colspan=\"10\" halign=\"left\">Adm No</th>\n",
       "    </tr>\n",
       "    <tr>\n",
       "      <th>G42 - Additional Mathematics</th>\n",
       "      <th>1.0</th>\n",
       "      <th>2.0</th>\n",
       "      <th>3.0</th>\n",
       "      <th>4.0</th>\n",
       "      <th>5.0</th>\n",
       "      <th>6.0</th>\n",
       "      <th>8.0</th>\n",
       "      <th>9.0</th>\n",
       "      <th>10.0</th>\n",
       "      <th>All</th>\n",
       "    </tr>\n",
       "    <tr>\n",
       "      <th>Course Abbr</th>\n",
       "      <th></th>\n",
       "      <th></th>\n",
       "      <th></th>\n",
       "      <th></th>\n",
       "      <th></th>\n",
       "      <th></th>\n",
       "      <th></th>\n",
       "      <th></th>\n",
       "      <th></th>\n",
       "      <th></th>\n",
       "    </tr>\n",
       "  </thead>\n",
       "  <tbody>\n",
       "    <tr>\n",
       "      <th>BCS</th>\n",
       "      <td>0</td>\n",
       "      <td>1</td>\n",
       "      <td>8</td>\n",
       "      <td>2</td>\n",
       "      <td>0</td>\n",
       "      <td>3</td>\n",
       "      <td>0</td>\n",
       "      <td>2</td>\n",
       "      <td>19</td>\n",
       "      <td>35</td>\n",
       "    </tr>\n",
       "    <tr>\n",
       "      <th>BIO</th>\n",
       "      <td>4</td>\n",
       "      <td>16</td>\n",
       "      <td>23</td>\n",
       "      <td>5</td>\n",
       "      <td>0</td>\n",
       "      <td>4</td>\n",
       "      <td>1</td>\n",
       "      <td>1</td>\n",
       "      <td>17</td>\n",
       "      <td>71</td>\n",
       "    </tr>\n",
       "    <tr>\n",
       "      <th>BMS</th>\n",
       "      <td>6</td>\n",
       "      <td>6</td>\n",
       "      <td>13</td>\n",
       "      <td>3</td>\n",
       "      <td>0</td>\n",
       "      <td>2</td>\n",
       "      <td>0</td>\n",
       "      <td>0</td>\n",
       "      <td>11</td>\n",
       "      <td>41</td>\n",
       "    </tr>\n",
       "    <tr>\n",
       "      <th>ChE</th>\n",
       "      <td>0</td>\n",
       "      <td>18</td>\n",
       "      <td>29</td>\n",
       "      <td>9</td>\n",
       "      <td>4</td>\n",
       "      <td>2</td>\n",
       "      <td>1</td>\n",
       "      <td>1</td>\n",
       "      <td>49</td>\n",
       "      <td>113</td>\n",
       "    </tr>\n",
       "    <tr>\n",
       "      <th>FSN</th>\n",
       "      <td>0</td>\n",
       "      <td>3</td>\n",
       "      <td>19</td>\n",
       "      <td>4</td>\n",
       "      <td>2</td>\n",
       "      <td>4</td>\n",
       "      <td>0</td>\n",
       "      <td>0</td>\n",
       "      <td>23</td>\n",
       "      <td>55</td>\n",
       "    </tr>\n",
       "    <tr>\n",
       "      <th>PHS</th>\n",
       "      <td>3</td>\n",
       "      <td>19</td>\n",
       "      <td>23</td>\n",
       "      <td>4</td>\n",
       "      <td>3</td>\n",
       "      <td>2</td>\n",
       "      <td>0</td>\n",
       "      <td>0</td>\n",
       "      <td>15</td>\n",
       "      <td>69</td>\n",
       "    </tr>\n",
       "    <tr>\n",
       "      <th>VET</th>\n",
       "      <td>6</td>\n",
       "      <td>13</td>\n",
       "      <td>16</td>\n",
       "      <td>2</td>\n",
       "      <td>1</td>\n",
       "      <td>0</td>\n",
       "      <td>0</td>\n",
       "      <td>0</td>\n",
       "      <td>6</td>\n",
       "      <td>44</td>\n",
       "    </tr>\n",
       "    <tr>\n",
       "      <th>All</th>\n",
       "      <td>19</td>\n",
       "      <td>76</td>\n",
       "      <td>131</td>\n",
       "      <td>29</td>\n",
       "      <td>10</td>\n",
       "      <td>17</td>\n",
       "      <td>2</td>\n",
       "      <td>4</td>\n",
       "      <td>140</td>\n",
       "      <td>428</td>\n",
       "    </tr>\n",
       "  </tbody>\n",
       "</table>\n",
       "</div>"
      ],
      "text/plain": [
       "                             Adm No                                       \n",
       "G42 - Additional Mathematics    1.0 2.0  3.0 4.0 5.0 6.0 8.0 9.0 10.0  All\n",
       "Course Abbr                                                               \n",
       "BCS                               0   1    8   2   0   3   0   2   19   35\n",
       "BIO                               4  16   23   5   0   4   1   1   17   71\n",
       "BMS                               6   6   13   3   0   2   0   0   11   41\n",
       "ChE                               0  18   29   9   4   2   1   1   49  113\n",
       "FSN                               0   3   19   4   2   4   0   0   23   55\n",
       "PHS                               3  19   23   4   3   2   0   0   15   69\n",
       "VET                               6  13   16   2   1   0   0   0    6   44\n",
       "All                              19  76  131  29  10  17   2   4  140  428"
      ]
     },
     "execution_count": 6,
     "metadata": {},
     "output_type": "execute_result"
    }
   ],
   "source": [
    "df[['Adm No','Course Abbr','G42 - Additional Mathematics']].pivot_table(index='Course Abbr', \n",
    "        columns='G42 - Additional Mathematics',aggfunc='count',fill_value=0,margins=True)"
   ]
  },
  {
   "cell_type": "markdown",
   "metadata": {},
   "source": [
    "#### We can also group the students according to their courses."
   ]
  },
  {
   "cell_type": "code",
   "execution_count": 7,
   "metadata": {
    "collapsed": true
   },
   "outputs": [],
   "source": [
    "che = df[df['Course Abbr']=='ChE']\n",
    "bio = df[df['Course Abbr']=='BIO']\n",
    "phs = df[df['Course Abbr']=='PHS']\n",
    "fsn = df[df['Course Abbr']=='FSN']\n",
    "vet = df[df['Course Abbr']=='VET']\n",
    "bms = df[df['Course Abbr']=='BMS']\n",
    "bcs = df[df['Course Abbr']=='BCS']"
   ]
  },
  {
   "cell_type": "markdown",
   "metadata": {},
   "source": [
    "Since only ChE students need to take their mathematics, we just pull out ChE freshies that had a grade of 6 or lower for their additional mathematics. See that those students who didn't take additional mathematics have a grade of 10 and they are also pulled out at the same time. If we were to assign the grades for students who didn't take a particular subject as `NaN`, the classification would have been more tedious (I think?)."
   ]
  },
  {
   "cell_type": "code",
   "execution_count": 8,
   "metadata": {
    "collapsed": false
   },
   "outputs": [
    {
     "name": "stdout",
     "output_type": "stream",
     "text": [
      "Number of ChE students to go for math bridging: 53\n"
     ]
    }
   ],
   "source": [
    "che_em_list = che[che['G42 - Additional Mathematics']>5]\n",
    "print 'Number of ChE students to go for math bridging:', len(che_em_list)"
   ]
  },
  {
   "cell_type": "markdown",
   "metadata": {},
   "source": [
    "As I checked with the Bridging programme chairman that he needed the following information to create the attendance list, I have stored them into the variable `info` so as to reduce the typing to be done."
   ]
  },
  {
   "cell_type": "code",
   "execution_count": 9,
   "metadata": {
    "collapsed": true
   },
   "outputs": [],
   "source": [
    "info = ['Student Name','Adm No','Acad Course Code','Course Abbr','Mobile No.','Personal Email Address']"
   ]
  },
  {
   "cell_type": "markdown",
   "metadata": {},
   "source": [
    "#### One bridging class down!\n",
    "We can now save the name and info of ChE students that have to take the math bridging into a csv file named `che_em_list.csv`"
   ]
  },
  {
   "cell_type": "code",
   "execution_count": 10,
   "metadata": {
    "collapsed": false
   },
   "outputs": [],
   "source": [
    "che_em_list[info].to_csv('C:/Users/laizs/Desktop/notebook/bridging/che_em_list.csv')"
   ]
  },
  {
   "cell_type": "markdown",
   "metadata": {},
   "source": [
    "I'll leave the rest as an exercise for the reader to see how the remaining attendance for the different classes are obtained\n",
    "\n",
    "As a guide, the naming terminologies for the csv files are given below:\n",
    "- hap_mas_list: students that have to do bridigng for mas and hap\n",
    "- mas_list: students that only have to do bridging for mas\n",
    "- hap_list: students that only have to do bridging for hap"
   ]
  },
  {
   "cell_type": "code",
   "execution_count": 11,
   "metadata": {
    "collapsed": false
   },
   "outputs": [
    {
     "data": {
      "text/plain": [
       "80"
      ]
     },
     "execution_count": 11,
     "metadata": {},
     "output_type": "execute_result"
    }
   ],
   "source": [
    "mas_pop = df[((df['Course Abbr']=='BMS') | (df['Course Abbr']=='BIO')| (df['Course Abbr']=='FSN')| (df['Course Abbr']=='PHS'))\n",
    "             &(df['G42 - Additional Mathematics']>5)]\n",
    "len(mas_pop)"
   ]
  },
  {
   "cell_type": "code",
   "execution_count": 12,
   "metadata": {
    "collapsed": false
   },
   "outputs": [
    {
     "data": {
      "text/plain": [
       "array([ 10.,   3.,   2.,   1.,   5.])"
      ]
     },
     "execution_count": 12,
     "metadata": {},
     "output_type": "execute_result"
    }
   ],
   "source": [
    "mas_pop.to_csv('C:/Users/laizs/Desktop/notebook/bridging/mas_pop.csv')\n",
    "mas_pop['G52 - Science (Chemistry, Biology)'].unique()"
   ]
  },
  {
   "cell_type": "code",
   "execution_count": 13,
   "metadata": {
    "collapsed": false
   },
   "outputs": [],
   "source": [
    "hap_mas_list = mas_pop[(mas_pop['G46 - Biology']>5)&(mas_pop['G51 - Science (Physics, Biology)']>5)&\n",
    "                     (mas_pop['G52 - Science (Chemistry, Biology)']>5)]\n",
    "\n",
    "mas_list = mas_pop[(mas_pop['G46 - Biology']<=5)|(mas_pop['G51 - Science (Physics, Biology)']<=5)|\n",
    "                     (mas_pop['G52 - Science (Chemistry, Biology)']<=5)]\n"
   ]
  },
  {
   "cell_type": "code",
   "execution_count": 14,
   "metadata": {
    "collapsed": false
   },
   "outputs": [
    {
     "name": "stdout",
     "output_type": "stream",
     "text": [
      "40\n",
      "40\n"
     ]
    }
   ],
   "source": [
    "print len(hap_mas_list[info])\n",
    "print len(mas_list[info])\n"
   ]
  },
  {
   "cell_type": "code",
   "execution_count": 15,
   "metadata": {
    "collapsed": false
   },
   "outputs": [],
   "source": [
    "hap_mas_list[info].to_csv('C:/Users/laizs/Desktop/notebook/bridging/hap_mas_list.csv')\n",
    "mas_list[info].to_csv('C:/Users/laizs/Desktop/notebook/bridging/mas_list.csv')\n"
   ]
  },
  {
   "cell_type": "code",
   "execution_count": 16,
   "metadata": {
    "collapsed": false
   },
   "outputs": [
    {
     "data": {
      "text/plain": [
       "101"
      ]
     },
     "execution_count": 16,
     "metadata": {},
     "output_type": "execute_result"
    }
   ],
   "source": [
    "hap_pop = df[((df['Course Abbr']=='BMS') | (df['Course Abbr']=='BIO')| (df['Course Abbr']=='FSN')| (df['Course Abbr']=='PHS'))\n",
    "             & ~((df['G46 - Biology']<=5)|(df['G51 - Science (Physics, Biology)']<=5)|(df['G52 - Science (Chemistry, Biology)']<=5))]\n",
    "len(hap_pop)"
   ]
  },
  {
   "cell_type": "code",
   "execution_count": 17,
   "metadata": {
    "collapsed": false
   },
   "outputs": [
    {
     "data": {
      "text/plain": [
       "61"
      ]
     },
     "execution_count": 17,
     "metadata": {},
     "output_type": "execute_result"
    }
   ],
   "source": [
    "hap_list = hap_pop[hap_pop['G42 - Additional Mathematics']<=5]\n",
    "len(hap_list)"
   ]
  },
  {
   "cell_type": "code",
   "execution_count": 18,
   "metadata": {
    "collapsed": true
   },
   "outputs": [],
   "source": [
    "hap_list[info].to_csv('C:/Users/laizs/Desktop/notebook/bridging/hap_list.csv')"
   ]
  }
 ],
 "metadata": {
  "kernelspec": {
   "display_name": "Python 2",
   "language": "python",
   "name": "python2"
  },
  "language_info": {
   "codemirror_mode": {
    "name": "ipython",
    "version": 2
   },
   "file_extension": ".py",
   "mimetype": "text/x-python",
   "name": "python",
   "nbconvert_exporter": "python",
   "pygments_lexer": "ipython2",
   "version": "2.7.11"
  }
 },
 "nbformat": 4,
 "nbformat_minor": 0
}
